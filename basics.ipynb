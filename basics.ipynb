{
 "cells": [
  {
   "cell_type": "code",
   "execution_count": 3,
   "id": "1f279d9f-c5d8-4b65-b2a6-5c890580d54d",
   "metadata": {},
   "outputs": [],
   "source": [
    "import cv2 as cv\n",
    "import numpy as np"
   ]
  },
  {
   "cell_type": "markdown",
   "id": "528bc9a1-842c-40b7-aaef-265ced79734a",
   "metadata": {},
   "source": [
    "## Reading image"
   ]
  },
  {
   "cell_type": "code",
   "execution_count": 3,
   "id": "6c5830e6-386f-410d-9d60-bf8ba95e1685",
   "metadata": {},
   "outputs": [
    {
     "data": {
      "text/plain": [
       "-1"
      ]
     },
     "execution_count": 3,
     "metadata": {},
     "output_type": "execute_result"
    }
   ],
   "source": [
    "image = cv.imread('Photos/cat.jpg')\n",
    "cv.imshow('Cat', image)\n",
    "cv.waitKey(0)"
   ]
  },
  {
   "cell_type": "markdown",
   "id": "dadf83ab-6686-4eb6-9c00-4122ac9b05ba",
   "metadata": {},
   "source": [
    "## Reading videos"
   ]
  },
  {
   "cell_type": "code",
   "execution_count": 5,
   "id": "62f25394-fc1d-4daa-b95a-96b3bbe3d712",
   "metadata": {},
   "outputs": [
    {
     "ename": "error",
     "evalue": "OpenCV(4.5.3) C:\\Users\\runneradmin\\AppData\\Local\\Temp\\pip-req-build-sn_xpupm\\opencv\\modules\\imgproc\\src\\color.cpp:182: error: (-215:Assertion failed) !_src.empty() in function 'cv::cvtColor'\n",
     "output_type": "error",
     "traceback": [
      "\u001b[1;31m---------------------------------------------------------------------------\u001b[0m",
      "\u001b[1;31merror\u001b[0m                                     Traceback (most recent call last)",
      "\u001b[1;32m~\\AppData\\Local\\Temp/ipykernel_14744/839835668.py\u001b[0m in \u001b[0;36m<module>\u001b[1;34m\u001b[0m\n\u001b[0;32m      5\u001b[0m \u001b[1;32mwhile\u001b[0m \u001b[1;32mTrue\u001b[0m\u001b[1;33m:\u001b[0m\u001b[1;33m\u001b[0m\u001b[1;33m\u001b[0m\u001b[0m\n\u001b[0;32m      6\u001b[0m     \u001b[0misTrue\u001b[0m\u001b[1;33m,\u001b[0m \u001b[0mframe\u001b[0m \u001b[1;33m=\u001b[0m \u001b[0mcapture\u001b[0m\u001b[1;33m.\u001b[0m\u001b[0mread\u001b[0m\u001b[1;33m(\u001b[0m\u001b[1;33m)\u001b[0m\u001b[1;33m\u001b[0m\u001b[1;33m\u001b[0m\u001b[0m\n\u001b[1;32m----> 7\u001b[1;33m     \u001b[0mcv\u001b[0m\u001b[1;33m.\u001b[0m\u001b[0mimshow\u001b[0m\u001b[1;33m(\u001b[0m\u001b[1;34m'Video'\u001b[0m\u001b[1;33m,\u001b[0m \u001b[0mframe\u001b[0m\u001b[1;33m)\u001b[0m\u001b[1;33m\u001b[0m\u001b[1;33m\u001b[0m\u001b[0m\n\u001b[0m\u001b[0;32m      8\u001b[0m     \u001b[1;32mif\u001b[0m \u001b[0mcv\u001b[0m\u001b[1;33m.\u001b[0m\u001b[0mwaitKey\u001b[0m\u001b[1;33m(\u001b[0m\u001b[1;36m20\u001b[0m\u001b[1;33m)\u001b[0m \u001b[1;33m&\u001b[0m \u001b[1;36m0xFF\u001b[0m \u001b[1;33m==\u001b[0m \u001b[0mord\u001b[0m\u001b[1;33m(\u001b[0m\u001b[1;34m'd'\u001b[0m\u001b[1;33m)\u001b[0m\u001b[1;33m:\u001b[0m\u001b[1;33m\u001b[0m\u001b[1;33m\u001b[0m\u001b[0m\n\u001b[0;32m      9\u001b[0m         \u001b[1;32mbreak\u001b[0m\u001b[1;33m\u001b[0m\u001b[1;33m\u001b[0m\u001b[0m\n",
      "\u001b[1;31merror\u001b[0m: OpenCV(4.5.3) C:\\Users\\runneradmin\\AppData\\Local\\Temp\\pip-req-build-sn_xpupm\\opencv\\modules\\imgproc\\src\\color.cpp:182: error: (-215:Assertion failed) !_src.empty() in function 'cv::cvtColor'\n"
     ]
    }
   ],
   "source": [
    " # 0 for webcam, 1 for first usb cam and so on\n",
    "capture = cv.VideoCapture('Videos/dog.mp4')\n",
    "while True:\n",
    "    isTrue, frame = capture.read()\n",
    "    cv.imshow('Video', frame)\n",
    "    if cv.waitKey(20) & 0xFF == ord('d'):\n",
    "        break\n",
    "        \n",
    "capture.release()\n",
    "cv.destroyAllWindows()"
   ]
  },
  {
   "cell_type": "markdown",
   "id": "9f2d028b-dd0c-4e1d-b248-0e22f5218361",
   "metadata": {},
   "source": [
    "We get 215 assertion failed error when opencv could not find a media file at that particular location that you specified. Now we got the error because the video ran out of frames"
   ]
  },
  {
   "cell_type": "markdown",
   "id": "8e739550-f520-43cc-b6fb-e3bad7ea0d2c",
   "metadata": {},
   "source": [
    "## Rescale image"
   ]
  },
  {
   "cell_type": "code",
   "execution_count": 3,
   "id": "4ca87aa7-cadc-475c-bc60-db2e818114a4",
   "metadata": {},
   "outputs": [],
   "source": [
    "# This works for videos, images, live video\n",
    "def rescaleFrame(frame, scale = 0.75):\n",
    "    width = int(frame.shape[1] * scale)\n",
    "    height = int(frame.shape[0] * scale)\n",
    "    dimensions = (width, height) \n",
    "    return cv.resize(frame, dimensions, interpolation = cv.INTER_AREA)"
   ]
  },
  {
   "cell_type": "code",
   "execution_count": 4,
   "id": "84bc7b94-c20c-4add-bf1c-bbe1ee3acabc",
   "metadata": {},
   "outputs": [],
   "source": [
    "capture = cv.VideoCapture('Videos/dog.mp4')\n",
    "while True:\n",
    "    isTrue, frame = capture.read()\n",
    "    frameResized = rescaleFrame(frame, 0.5)\n",
    "    cv.imshow('Rescaled Video', frameResized)\n",
    "    cv.imshow('Video', frame)\n",
    "    if cv.waitKey(20) & 0xFF == ord('d'):\n",
    "        break\n",
    "        \n",
    "capture.release()\n",
    "cv.destroyAllWindows()"
   ]
  },
  {
   "cell_type": "code",
   "execution_count": 5,
   "id": "2df6c360-d3b1-47a6-a412-c8b2bc58007a",
   "metadata": {},
   "outputs": [],
   "source": [
    "# Only works for live video\n",
    "def changeResolution(width, height):\n",
    "    capture.set(3, width)\n",
    "    capture.set(4, height)"
   ]
  },
  {
   "cell_type": "markdown",
   "id": "26e5e787-9cfa-4945-a8f2-78c5a3271a2b",
   "metadata": {},
   "source": [
    "## Draw"
   ]
  },
  {
   "cell_type": "code",
   "execution_count": 4,
   "id": "ae2dc4f8-ba43-46a5-9fc5-179f2927dec8",
   "metadata": {},
   "outputs": [],
   "source": [
    "# creating a blank image\n",
    "blank = np.zeros((500, 500, 3), dtype = 'uint8')"
   ]
  },
  {
   "cell_type": "markdown",
   "id": "a1e77db7-53ed-4aa9-b110-1dbebf2c6b7f",
   "metadata": {},
   "source": [
    "### Print the image a certain colour"
   ]
  },
  {
   "cell_type": "code",
   "execution_count": 5,
   "id": "c6012495-5af0-45e6-b571-7dfeab64f7b3",
   "metadata": {},
   "outputs": [],
   "source": [
    "blank[:] = 0,255,0\n",
    "cv.imshow('Green', blank)"
   ]
  },
  {
   "cell_type": "code",
   "execution_count": null,
   "id": "ceb2f009-8d57-4c91-8a4c-24ef0a76c2cc",
   "metadata": {},
   "outputs": [],
   "source": []
  }
 ],
 "metadata": {
  "kernelspec": {
   "display_name": "Python 3 (ipykernel)",
   "language": "python",
   "name": "python3"
  },
  "language_info": {
   "codemirror_mode": {
    "name": "ipython",
    "version": 3
   },
   "file_extension": ".py",
   "mimetype": "text/x-python",
   "name": "python",
   "nbconvert_exporter": "python",
   "pygments_lexer": "ipython3",
   "version": "3.9.6"
  }
 },
 "nbformat": 4,
 "nbformat_minor": 5
}
