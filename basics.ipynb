{
 "cells": [
  {
   "cell_type": "code",
   "execution_count": 1,
   "id": "1f279d9f-c5d8-4b65-b2a6-5c890580d54d",
   "metadata": {},
   "outputs": [],
   "source": [
    "import cv2 as cv\n",
    "import numpy as np\n",
    "from matplotlib import pyplot as plt"
   ]
  },
  {
   "cell_type": "markdown",
   "id": "528bc9a1-842c-40b7-aaef-265ced79734a",
   "metadata": {},
   "source": [
    "### Reading image"
   ]
  },
  {
   "cell_type": "code",
   "execution_count": 3,
   "id": "6c5830e6-386f-410d-9d60-bf8ba95e1685",
   "metadata": {},
   "outputs": [],
   "source": [
    "image = cv.imread('Photos/cat.jpg')\n",
    "cv.imshow('Cat', image)\n",
    "cv.waitKey(3000)\n",
    "cv.destroyAllWindows()"
   ]
  },
  {
   "cell_type": "markdown",
   "id": "dadf83ab-6686-4eb6-9c00-4122ac9b05ba",
   "metadata": {},
   "source": [
    "### Reading videos"
   ]
  },
  {
   "cell_type": "code",
   "execution_count": 5,
   "id": "62f25394-fc1d-4daa-b95a-96b3bbe3d712",
   "metadata": {},
   "outputs": [
    {
     "ename": "error",
     "evalue": "OpenCV(4.5.3) C:\\Users\\runneradmin\\AppData\\Local\\Temp\\pip-req-build-sn_xpupm\\opencv\\modules\\imgproc\\src\\color.cpp:182: error: (-215:Assertion failed) !_src.empty() in function 'cv::cvtColor'\n",
     "output_type": "error",
     "traceback": [
      "\u001b[1;31m---------------------------------------------------------------------------\u001b[0m",
      "\u001b[1;31merror\u001b[0m                                     Traceback (most recent call last)",
      "\u001b[1;32m~\\AppData\\Local\\Temp/ipykernel_16580/3512800636.py\u001b[0m in \u001b[0;36m<module>\u001b[1;34m\u001b[0m\n\u001b[0;32m      3\u001b[0m \u001b[1;32mwhile\u001b[0m \u001b[1;32mTrue\u001b[0m\u001b[1;33m:\u001b[0m\u001b[1;33m\u001b[0m\u001b[1;33m\u001b[0m\u001b[0m\n\u001b[0;32m      4\u001b[0m    \u001b[0misTrue\u001b[0m\u001b[1;33m,\u001b[0m \u001b[0mframe\u001b[0m \u001b[1;33m=\u001b[0m \u001b[0mcapture\u001b[0m\u001b[1;33m.\u001b[0m\u001b[0mread\u001b[0m\u001b[1;33m(\u001b[0m\u001b[1;33m)\u001b[0m\u001b[1;33m\u001b[0m\u001b[1;33m\u001b[0m\u001b[0m\n\u001b[1;32m----> 5\u001b[1;33m    \u001b[0mcv\u001b[0m\u001b[1;33m.\u001b[0m\u001b[0mimshow\u001b[0m\u001b[1;33m(\u001b[0m\u001b[1;34m'Video'\u001b[0m\u001b[1;33m,\u001b[0m \u001b[0mframe\u001b[0m\u001b[1;33m)\u001b[0m\u001b[1;33m\u001b[0m\u001b[1;33m\u001b[0m\u001b[0m\n\u001b[0m\u001b[0;32m      6\u001b[0m    \u001b[1;32mif\u001b[0m \u001b[0mcv\u001b[0m\u001b[1;33m.\u001b[0m\u001b[0mwaitKey\u001b[0m\u001b[1;33m(\u001b[0m\u001b[1;36m20\u001b[0m\u001b[1;33m)\u001b[0m \u001b[1;33m&\u001b[0m \u001b[1;36m0xFF\u001b[0m \u001b[1;33m==\u001b[0m \u001b[0mord\u001b[0m\u001b[1;33m(\u001b[0m\u001b[1;34m'd'\u001b[0m\u001b[1;33m)\u001b[0m\u001b[1;33m:\u001b[0m\u001b[1;33m\u001b[0m\u001b[1;33m\u001b[0m\u001b[0m\n\u001b[0;32m      7\u001b[0m        \u001b[1;32mbreak\u001b[0m\u001b[1;33m\u001b[0m\u001b[1;33m\u001b[0m\u001b[0m\n",
      "\u001b[1;31merror\u001b[0m: OpenCV(4.5.3) C:\\Users\\runneradmin\\AppData\\Local\\Temp\\pip-req-build-sn_xpupm\\opencv\\modules\\imgproc\\src\\color.cpp:182: error: (-215:Assertion failed) !_src.empty() in function 'cv::cvtColor'\n"
     ]
    }
   ],
   "source": [
    " # 0 for webcam, 1 for first usb cam and so on\n",
    "capture = cv.VideoCapture('Videos/dog.mp4')\n",
    "while True:\n",
    "    isTrue, frame = capture.read()\n",
    "    cv.imshow('Video', frame)\n",
    "    if cv.waitKey(20) & 0xFF == ord('d'):\n",
    "        break\n",
    "        \n",
    "capture.release()\n",
    "cv.destroyAllWindows()"
   ]
  },
  {
   "cell_type": "markdown",
   "id": "9f2d028b-dd0c-4e1d-b248-0e22f5218361",
   "metadata": {},
   "source": [
    "We get 215 assertion failed error when opencv could not find a media file at that particular location that you specified. Now we got the error because the video ran out of frames"
   ]
  },
  {
   "cell_type": "markdown",
   "id": "8e739550-f520-43cc-b6fb-e3bad7ea0d2c",
   "metadata": {},
   "source": [
    "### Rescale image"
   ]
  },
  {
   "cell_type": "code",
   "execution_count": 6,
   "id": "4ca87aa7-cadc-475c-bc60-db2e818114a4",
   "metadata": {},
   "outputs": [],
   "source": [
    "# This works for videos, images, live video\n",
    "def rescaleFrame(frame, scale = 0.75):\n",
    "    width = int(frame.shape[1] * scale)\n",
    "    height = int(frame.shape[0] * scale)\n",
    "    dimensions = (width, height) \n",
    "    return cv.resize(frame, dimensions, interpolation = cv.INTER_AREA)"
   ]
  },
  {
   "cell_type": "code",
   "execution_count": 7,
   "id": "84bc7b94-c20c-4add-bf1c-bbe1ee3acabc",
   "metadata": {},
   "outputs": [],
   "source": [
    "capture = cv.VideoCapture('Videos/dog.mp4')\n",
    "while True:\n",
    "    isTrue, frame = capture.read()\n",
    "    frameResized = rescaleFrame(frame, 0.5)\n",
    "    cv.imshow('Rescaled Video', frameResized)\n",
    "    cv.imshow('Video', frame)\n",
    "    if cv.waitKey(20) & 0xFF == ord('d'):\n",
    "        break\n",
    "        \n",
    "capture.release()\n",
    "cv.destroyAllWindows()"
   ]
  },
  {
   "cell_type": "code",
   "execution_count": 8,
   "id": "2df6c360-d3b1-47a6-a412-c8b2bc58007a",
   "metadata": {},
   "outputs": [],
   "source": [
    "# Only works for live video\n",
    "def changeResolution(width, height):\n",
    "    capture.set(3, width)\n",
    "    capture.set(4, height)"
   ]
  },
  {
   "cell_type": "markdown",
   "id": "26e5e787-9cfa-4945-a8f2-78c5a3271a2b",
   "metadata": {},
   "source": [
    "### Blank image"
   ]
  },
  {
   "cell_type": "code",
   "execution_count": 9,
   "id": "ae2dc4f8-ba43-46a5-9fc5-179f2927dec8",
   "metadata": {},
   "outputs": [],
   "source": [
    "# creating a blank image\n",
    "blank = np.zeros((500, 500, 3), dtype = 'uint8')\n",
    "cv.imshow('Blank', blank)\n",
    "cv.waitKey(3000)\n",
    "cv.destroyAllWindows()"
   ]
  },
  {
   "cell_type": "markdown",
   "id": "a1e77db7-53ed-4aa9-b110-1dbebf2c6b7f",
   "metadata": {},
   "source": [
    "### Paint the image a certain colour"
   ]
  },
  {
   "cell_type": "code",
   "execution_count": 10,
   "id": "c6012495-5af0-45e6-b571-7dfeab64f7b3",
   "metadata": {},
   "outputs": [],
   "source": [
    "blank[:] = 0,255,0\n",
    "cv.imshow('Green', blank)\n",
    "cv.waitKey(3000)\n",
    "cv.destroyAllWindows()"
   ]
  },
  {
   "cell_type": "markdown",
   "id": "18ca9fa9-7a73-4b82-aa9c-971724715bd0",
   "metadata": {},
   "source": [
    "### Draw a rectangle"
   ]
  },
  {
   "cell_type": "code",
   "execution_count": 12,
   "id": "1617a909-a7af-4571-ac2f-3b45238dab72",
   "metadata": {},
   "outputs": [],
   "source": [
    "# arguments: image, point1, point2, colour, thickness\n",
    "blank = np.zeros((500, 500, 3), dtype = 'uint8')\n",
    "cv.rectangle(blank, (0, 0), (250, 250), (255, 255, 255), thickness = 2)\n",
    "cv.imshow('Rectangle', blank)\n",
    "cv.waitKey(3000)\n",
    "cv.destroyAllWindows()"
   ]
  },
  {
   "cell_type": "markdown",
   "id": "f881878d-c0c0-4b8b-b64a-578fea6760ee",
   "metadata": {},
   "source": [
    "### Draw a circle"
   ]
  },
  {
   "cell_type": "code",
   "execution_count": 15,
   "id": "c4d4d8c9-2125-401f-9977-acc42513dc95",
   "metadata": {},
   "outputs": [],
   "source": [
    "# arguments: image, origin, radius in px, colour, thickness\n",
    "# thickness = cv.FILLED fills the circle or we can use -1\n",
    "cv.circle(blank, (blank.shape[1] // 2, blank.shape[0] // 2), 40, (0, 0, 255), thickness = cv.FILLED) \n",
    "cv.imshow('Circle', blank)\n",
    "cv.waitKey(3000)\n",
    "cv.destroyAllWindows()"
   ]
  },
  {
   "cell_type": "markdown",
   "id": "9f624b3f-efd2-4054-bcfc-6b0ef02266d8",
   "metadata": {},
   "source": [
    "### Draw a line"
   ]
  },
  {
   "cell_type": "code",
   "execution_count": 16,
   "id": "81a05c7f-7048-4b4b-8892-7d54d502f0c8",
   "metadata": {},
   "outputs": [],
   "source": [
    "# arguments: image, point1, point2, colour, thickness\n",
    "cv.line(blank, (0, 0), (250, 250), (255, 255, 255), thickness = 2)\n",
    "cv.imshow('Line', blank)\n",
    "cv.waitKey(3000)\n",
    "cv.destroyAllWindows()"
   ]
  },
  {
   "cell_type": "markdown",
   "id": "ab785743-92cb-4d2a-a9db-2b86e83729f6",
   "metadata": {},
   "source": [
    "### Write text"
   ]
  },
  {
   "cell_type": "code",
   "execution_count": 17,
   "id": "cc9b09c7-9f8f-41ea-a457-689b44b7d9e1",
   "metadata": {},
   "outputs": [],
   "source": [
    "# arguments: image, text, center, fontname, scale, colour\n",
    "cv.putText(blank, 'Kotesh', (250, 250), cv.FONT_HERSHEY_COMPLEX, 1.0, (255, 255, 255))\n",
    "cv.imshow('Text', blank)\n",
    "cv.waitKey(3000)\n",
    "cv.destroyAllWindows()"
   ]
  },
  {
   "cell_type": "markdown",
   "id": "1a7000bb-ca1a-401a-8528-142c75c9a21d",
   "metadata": {},
   "source": [
    "### Convert to grayscale"
   ]
  },
  {
   "cell_type": "code",
   "execution_count": 18,
   "id": "a3186225-2a67-4b36-8a6d-9c02b21ae67c",
   "metadata": {},
   "outputs": [],
   "source": [
    "image = cv.imread('Photos/cat.jpg')\n",
    "grayscale = cv.cvtColor(image, cv.COLOR_BGR2GRAY)\n",
    "cv.imshow('Cat', image)\n",
    "cv.imshow('Gray', grayscale)\n",
    "cv.waitKey(3000)\n",
    "cv.destroyAllWindows()"
   ]
  },
  {
   "cell_type": "markdown",
   "id": "e0d09bd4-9bb4-42af-8650-0a4bc9095cfe",
   "metadata": {},
   "source": [
    "### Blur"
   ]
  },
  {
   "cell_type": "code",
   "execution_count": 21,
   "id": "8b9cc35f-fdaa-4ee8-93de-6c9f8eb6eeff",
   "metadata": {},
   "outputs": [],
   "source": [
    "image = cv.imread('Photos/cat.jpg')\n",
    "blur = cv.GaussianBlur(image, (3, 3), cv.BORDER_DEFAULT) # ksize should be odd\n",
    "cv.imshow('Original', image)\n",
    "cv.imshow('Blur', blur)\n",
    "cv.waitKey(3000)\n",
    "cv.destroyAllWindows()"
   ]
  },
  {
   "cell_type": "markdown",
   "id": "758fe18a-7db1-4a63-9e0f-d2ac9acf7c1e",
   "metadata": {},
   "source": [
    "### Edge cascade"
   ]
  },
  {
   "cell_type": "code",
   "execution_count": 38,
   "id": "9a9d6ab2-4a1b-4b55-9e1b-9f804eb29976",
   "metadata": {},
   "outputs": [],
   "source": [
    "# arguments: image, threshold1, threshold2\n",
    "image = cv.imread('Photos/park.jpg')\n",
    "blur = cv.GaussianBlur(image, (7, 7), cv.BORDER_DEFAULT) # ksize should be odd\n",
    "canny = cv.Canny(blur, 125, 175)\n",
    "cv.imshow('Park', blur)\n",
    "cv.imshow('Canny', canny)\n",
    "cv.waitKey(3000)\n",
    "cv.destroyAllWindows()"
   ]
  },
  {
   "cell_type": "markdown",
   "id": "31be026d-406e-48ff-84ec-002563b3769c",
   "metadata": {},
   "source": [
    "### Dilating the image"
   ]
  },
  {
   "cell_type": "code",
   "execution_count": 39,
   "id": "8f1c9a2d-c450-4a17-9b9c-3c4c366290dd",
   "metadata": {},
   "outputs": [],
   "source": [
    "dilated = cv.dilate(canny, (7, 7), iterations = 3)\n",
    "cv.imshow('Canny', canny)\n",
    "cv.imshow('Dilated', dilated)\n",
    "cv.waitKey(10000)\n",
    "cv.destroyAllWindows()"
   ]
  },
  {
   "cell_type": "markdown",
   "id": "6f5c9b40-b896-4489-a82a-a945df65cd60",
   "metadata": {},
   "source": [
    "### Eroding"
   ]
  },
  {
   "cell_type": "code",
   "execution_count": 41,
   "id": "7b589389-94d4-426c-8e77-cf23129a12e0",
   "metadata": {},
   "outputs": [],
   "source": [
    "eroded = cv.erode(dilated, (7, 7), iterations = 3)\n",
    "cv.imshow('Canny', canny)\n",
    "cv.imshow('Eroded', eroded)\n",
    "cv.imshow('Dilated', dilated)\n",
    "cv.waitKey(10000)\n",
    "cv.destroyAllWindows()"
   ]
  },
  {
   "cell_type": "markdown",
   "id": "afd139ce-5bfc-411b-b685-f73ee306215a",
   "metadata": {},
   "source": [
    "### Resize"
   ]
  },
  {
   "cell_type": "code",
   "execution_count": 48,
   "id": "5af14987-f27d-4f00-a976-dc3ef7ff928e",
   "metadata": {},
   "outputs": [],
   "source": [
    "image = cv.imread('Photos/group 1.jpg')\n",
    "cropped1 = cv.resize(image, (600, 600))\n",
    "cropped2 = cv.resize(image, (600, 600), interpolation = cv.INTER_CUBIC)\n",
    "cv.imshow('Image', image)\n",
    "cv.imshow('Cropped Image 1', cropped1)\n",
    "cv.imshow('Cropped Image 2', cropped2)\n",
    "cv.waitKey(10000)\n",
    "cv.destroyAllWindows()"
   ]
  },
  {
   "cell_type": "markdown",
   "id": "9e316515-36f0-4336-ad28-df073a857857",
   "metadata": {},
   "source": [
    "### Cropping"
   ]
  },
  {
   "cell_type": "code",
   "execution_count": 50,
   "id": "ec50a115-7bfe-475b-91c0-11571cceac44",
   "metadata": {},
   "outputs": [],
   "source": [
    "cropped = image[50:150, 200:300]\n",
    "cv.imshow('Image', image)\n",
    "cv.imshow('Cropped Image', cropped)\n",
    "cv.waitKey(10000)\n",
    "cv.destroyAllWindows()"
   ]
  },
  {
   "cell_type": "code",
   "execution_count": null,
   "id": "f8eaa08c-a0f0-446a-b2fd-e3e30c3e58ec",
   "metadata": {},
   "outputs": [],
   "source": []
  }
 ],
 "metadata": {
  "kernelspec": {
   "display_name": "Python 3 (ipykernel)",
   "language": "python",
   "name": "python3"
  },
  "language_info": {
   "codemirror_mode": {
    "name": "ipython",
    "version": 3
   },
   "file_extension": ".py",
   "mimetype": "text/x-python",
   "name": "python",
   "nbconvert_exporter": "python",
   "pygments_lexer": "ipython3",
   "version": "3.9.6"
  }
 },
 "nbformat": 4,
 "nbformat_minor": 5
}
